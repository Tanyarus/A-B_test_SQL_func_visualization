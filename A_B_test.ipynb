{
 "cells": [
  {
   "cell_type": "markdown",
   "id": "316bbfaf",
   "metadata": {},
   "source": [
    "# A/B тестирование."
   ]
  },
  {
   "cell_type": "markdown",
   "id": "851ec097",
   "metadata": {},
   "source": [
    "##### В ходе тестирования одной гипотезы целевой группе была предложена новая механика оплаты услуг на сайте, у контрольной группы оставалась базовая механика. В качестве задания нам необходимо проанализировать итоги эксперимента и сделать вывод, стоит ли запускать новую механику оплаты на всех пользователей."
   ]
  },
  {
   "cell_type": "markdown",
   "id": "2a666e77",
   "metadata": {},
   "source": [
    "##### Импортируем  необходимые библиотеки:"
   ]
  },
  {
   "cell_type": "code",
   "execution_count": 1,
   "id": "16735d3b",
   "metadata": {},
   "outputs": [],
   "source": [
    "import pandas as pd\n",
    "from scipy.stats import chi2_contingency, chi2, chisquare\n",
    "import numpy as np\n",
    "import scipy.stats as ss\n",
    "from scipy import stats\n",
    "from scipy.stats import norm, mannwhitneyu\n",
    "from tqdm.auto import tqdm\n",
    "\n",
    "import seaborn as sns\n",
    "import matplotlib.pyplot as plt\n",
    "%matplotlib inline"
   ]
  },
  {
   "cell_type": "markdown",
   "id": "e69e09e0",
   "metadata": {},
   "source": [
    "#### Выгружаем данные"
   ]
  },
  {
   "cell_type": "code",
   "execution_count": 2,
   "id": "6274bd96",
   "metadata": {},
   "outputs": [],
   "source": [
    "# файл с информацией о пользователях, которые зашли на платформу в дни проведения эксперимента. \n",
    "active_studs = pd.read_csv('Проект_2_active_studs.csv')\n",
    "\n",
    "# файл с информацией об оплатах пользователей в дни проведения эксперимента. \n",
    "checks = pd.read_csv('Проект_2_checks.csv', sep=';')\n",
    "\n",
    "#файл с информацией о принадлежности пользователя к контрольной или экспериментальной группе (А – контроль, B – целевая группа) \n",
    "groups = pd.read_csv('Проект_2_groups.csv', sep=';')\n",
    "\n",
    "# дополнительный файл с пользователями, который вам прислали спустя 2 дня после передачи данных\n",
    "add_group = pd.read_csv('Проект_2_group_add.csv')"
   ]
  },
  {
   "cell_type": "markdown",
   "id": "db919ec5",
   "metadata": {},
   "source": [
    "##### Проверяем данные на наличие пропусков, дубликатов, смотрим размерность таблиц и типы данных, чтобы в случае необходимости привести их к нужному нам типу:"
   ]
  },
  {
   "cell_type": "code",
   "execution_count": 3,
   "id": "9dfee1ab",
   "metadata": {
    "scrolled": true
   },
   "outputs": [
    {
     "data": {
      "text/plain": [
       "(8341, 1)"
      ]
     },
     "execution_count": 3,
     "metadata": {},
     "output_type": "execute_result"
    }
   ],
   "source": [
    "active_studs.shape"
   ]
  },
  {
   "cell_type": "code",
   "execution_count": 5,
   "id": "334dafda",
   "metadata": {},
   "outputs": [
    {
     "data": {
      "text/html": [
       "<div>\n",
       "<style scoped>\n",
       "    .dataframe tbody tr th:only-of-type {\n",
       "        vertical-align: middle;\n",
       "    }\n",
       "\n",
       "    .dataframe tbody tr th {\n",
       "        vertical-align: top;\n",
       "    }\n",
       "\n",
       "    .dataframe thead th {\n",
       "        text-align: right;\n",
       "    }\n",
       "</style>\n",
       "<table border=\"1\" class=\"dataframe\">\n",
       "  <thead>\n",
       "    <tr style=\"text-align: right;\">\n",
       "      <th></th>\n",
       "      <th>student_id</th>\n",
       "    </tr>\n",
       "  </thead>\n",
       "  <tbody>\n",
       "    <tr>\n",
       "      <th>0</th>\n",
       "      <td>581585</td>\n",
       "    </tr>\n",
       "    <tr>\n",
       "      <th>1</th>\n",
       "      <td>5723133</td>\n",
       "    </tr>\n",
       "    <tr>\n",
       "      <th>2</th>\n",
       "      <td>3276743</td>\n",
       "    </tr>\n",
       "    <tr>\n",
       "      <th>3</th>\n",
       "      <td>4238589</td>\n",
       "    </tr>\n",
       "    <tr>\n",
       "      <th>4</th>\n",
       "      <td>4475369</td>\n",
       "    </tr>\n",
       "  </tbody>\n",
       "</table>\n",
       "</div>"
      ],
      "text/plain": [
       "   student_id\n",
       "0      581585\n",
       "1     5723133\n",
       "2     3276743\n",
       "3     4238589\n",
       "4     4475369"
      ]
     },
     "execution_count": 5,
     "metadata": {},
     "output_type": "execute_result"
    }
   ],
   "source": [
    "active_studs.head()"
   ]
  },
  {
   "cell_type": "code",
   "execution_count": 6,
   "id": "4b2afedf",
   "metadata": {},
   "outputs": [
    {
     "data": {
      "text/html": [
       "<div>\n",
       "<style scoped>\n",
       "    .dataframe tbody tr th:only-of-type {\n",
       "        vertical-align: middle;\n",
       "    }\n",
       "\n",
       "    .dataframe tbody tr th {\n",
       "        vertical-align: top;\n",
       "    }\n",
       "\n",
       "    .dataframe thead th {\n",
       "        text-align: right;\n",
       "    }\n",
       "</style>\n",
       "<table border=\"1\" class=\"dataframe\">\n",
       "  <thead>\n",
       "    <tr style=\"text-align: right;\">\n",
       "      <th></th>\n",
       "      <th>student_id</th>\n",
       "    </tr>\n",
       "  </thead>\n",
       "  <tbody>\n",
       "  </tbody>\n",
       "</table>\n",
       "</div>"
      ],
      "text/plain": [
       "Empty DataFrame\n",
       "Columns: [student_id]\n",
       "Index: []"
      ]
     },
     "execution_count": 6,
     "metadata": {},
     "output_type": "execute_result"
    }
   ],
   "source": [
    "active_studs[active_studs.duplicated()]"
   ]
  },
  {
   "cell_type": "code",
   "execution_count": 7,
   "id": "961e57b1",
   "metadata": {},
   "outputs": [
    {
     "data": {
      "text/plain": [
       "student_id    0\n",
       "dtype: int64"
      ]
     },
     "execution_count": 7,
     "metadata": {},
     "output_type": "execute_result"
    }
   ],
   "source": [
    "active_studs.isna().sum()"
   ]
  },
  {
   "cell_type": "code",
   "execution_count": 8,
   "id": "a7832206",
   "metadata": {},
   "outputs": [
    {
     "data": {
      "text/plain": [
       "student_id    int64\n",
       "dtype: object"
      ]
     },
     "execution_count": 8,
     "metadata": {},
     "output_type": "execute_result"
    }
   ],
   "source": [
    "active_studs.dtypes"
   ]
  },
  {
   "cell_type": "code",
   "execution_count": 9,
   "id": "77dd84dc",
   "metadata": {},
   "outputs": [
    {
     "data": {
      "text/plain": [
       "(541, 2)"
      ]
     },
     "execution_count": 9,
     "metadata": {},
     "output_type": "execute_result"
    }
   ],
   "source": [
    "checks.shape"
   ]
  },
  {
   "cell_type": "code",
   "execution_count": 10,
   "id": "1f5885dd",
   "metadata": {},
   "outputs": [
    {
     "data": {
      "text/html": [
       "<div>\n",
       "<style scoped>\n",
       "    .dataframe tbody tr th:only-of-type {\n",
       "        vertical-align: middle;\n",
       "    }\n",
       "\n",
       "    .dataframe tbody tr th {\n",
       "        vertical-align: top;\n",
       "    }\n",
       "\n",
       "    .dataframe thead th {\n",
       "        text-align: right;\n",
       "    }\n",
       "</style>\n",
       "<table border=\"1\" class=\"dataframe\">\n",
       "  <thead>\n",
       "    <tr style=\"text-align: right;\">\n",
       "      <th></th>\n",
       "      <th>student_id</th>\n",
       "      <th>rev</th>\n",
       "    </tr>\n",
       "  </thead>\n",
       "  <tbody>\n",
       "  </tbody>\n",
       "</table>\n",
       "</div>"
      ],
      "text/plain": [
       "Empty DataFrame\n",
       "Columns: [student_id, rev]\n",
       "Index: []"
      ]
     },
     "execution_count": 10,
     "metadata": {},
     "output_type": "execute_result"
    }
   ],
   "source": [
    "checks[checks.duplicated()]"
   ]
  },
  {
   "cell_type": "code",
   "execution_count": 11,
   "id": "dadb0b3a",
   "metadata": {},
   "outputs": [
    {
     "data": {
      "text/plain": [
       "student_id    0\n",
       "rev           0\n",
       "dtype: int64"
      ]
     },
     "execution_count": 11,
     "metadata": {},
     "output_type": "execute_result"
    }
   ],
   "source": [
    "checks.isna().sum()"
   ]
  },
  {
   "cell_type": "code",
   "execution_count": 12,
   "id": "91ab2702",
   "metadata": {},
   "outputs": [
    {
     "data": {
      "text/plain": [
       "student_id      int64\n",
       "rev           float64\n",
       "dtype: object"
      ]
     },
     "execution_count": 12,
     "metadata": {},
     "output_type": "execute_result"
    }
   ],
   "source": [
    "checks.dtypes"
   ]
  },
  {
   "cell_type": "code",
   "execution_count": 13,
   "id": "cb8355ba",
   "metadata": {},
   "outputs": [
    {
     "data": {
      "text/plain": [
       "(74484, 2)"
      ]
     },
     "execution_count": 13,
     "metadata": {},
     "output_type": "execute_result"
    }
   ],
   "source": [
    "\n",
    "groups.shape"
   ]
  },
  {
   "cell_type": "code",
   "execution_count": 14,
   "id": "14188473",
   "metadata": {},
   "outputs": [
    {
     "data": {
      "text/plain": [
       "id     0\n",
       "grp    0\n",
       "dtype: int64"
      ]
     },
     "execution_count": 14,
     "metadata": {},
     "output_type": "execute_result"
    }
   ],
   "source": [
    "groups.isna().sum()"
   ]
  },
  {
   "cell_type": "code",
   "execution_count": 15,
   "id": "7f6ffa91",
   "metadata": {},
   "outputs": [
    {
     "data": {
      "text/plain": [
       "id      int64\n",
       "grp    object\n",
       "dtype: object"
      ]
     },
     "execution_count": 15,
     "metadata": {},
     "output_type": "execute_result"
    }
   ],
   "source": [
    "groups.dtypes"
   ]
  },
  {
   "cell_type": "code",
   "execution_count": 16,
   "id": "4fd9f3bb",
   "metadata": {},
   "outputs": [
    {
     "data": {
      "text/html": [
       "<div>\n",
       "<style scoped>\n",
       "    .dataframe tbody tr th:only-of-type {\n",
       "        vertical-align: middle;\n",
       "    }\n",
       "\n",
       "    .dataframe tbody tr th {\n",
       "        vertical-align: top;\n",
       "    }\n",
       "\n",
       "    .dataframe thead th {\n",
       "        text-align: right;\n",
       "    }\n",
       "</style>\n",
       "<table border=\"1\" class=\"dataframe\">\n",
       "  <thead>\n",
       "    <tr style=\"text-align: right;\">\n",
       "      <th></th>\n",
       "      <th>id</th>\n",
       "      <th>grp</th>\n",
       "    </tr>\n",
       "  </thead>\n",
       "  <tbody>\n",
       "  </tbody>\n",
       "</table>\n",
       "</div>"
      ],
      "text/plain": [
       "Empty DataFrame\n",
       "Columns: [id, grp]\n",
       "Index: []"
      ]
     },
     "execution_count": 16,
     "metadata": {},
     "output_type": "execute_result"
    }
   ],
   "source": [
    "groups[groups.duplicated ()]"
   ]
  },
  {
   "cell_type": "code",
   "execution_count": 17,
   "id": "6bfcff40",
   "metadata": {},
   "outputs": [
    {
     "data": {
      "text/plain": [
       "(92, 2)"
      ]
     },
     "execution_count": 17,
     "metadata": {},
     "output_type": "execute_result"
    }
   ],
   "source": [
    "add_group.shape"
   ]
  },
  {
   "cell_type": "code",
   "execution_count": 18,
   "id": "a6779902",
   "metadata": {},
   "outputs": [
    {
     "data": {
      "text/plain": [
       "id     0\n",
       "grp    0\n",
       "dtype: int64"
      ]
     },
     "execution_count": 18,
     "metadata": {},
     "output_type": "execute_result"
    }
   ],
   "source": [
    "add_group.isna().sum()"
   ]
  },
  {
   "cell_type": "code",
   "execution_count": 19,
   "id": "be3fbb15",
   "metadata": {},
   "outputs": [
    {
     "data": {
      "text/plain": [
       "id      int64\n",
       "grp    object\n",
       "dtype: object"
      ]
     },
     "execution_count": 19,
     "metadata": {},
     "output_type": "execute_result"
    }
   ],
   "source": [
    "add_group.dtypes"
   ]
  },
  {
   "cell_type": "code",
   "execution_count": 20,
   "id": "e395448e",
   "metadata": {},
   "outputs": [
    {
     "data": {
      "text/html": [
       "<div>\n",
       "<style scoped>\n",
       "    .dataframe tbody tr th:only-of-type {\n",
       "        vertical-align: middle;\n",
       "    }\n",
       "\n",
       "    .dataframe tbody tr th {\n",
       "        vertical-align: top;\n",
       "    }\n",
       "\n",
       "    .dataframe thead th {\n",
       "        text-align: right;\n",
       "    }\n",
       "</style>\n",
       "<table border=\"1\" class=\"dataframe\">\n",
       "  <thead>\n",
       "    <tr style=\"text-align: right;\">\n",
       "      <th></th>\n",
       "      <th>id</th>\n",
       "      <th>grp</th>\n",
       "    </tr>\n",
       "  </thead>\n",
       "  <tbody>\n",
       "  </tbody>\n",
       "</table>\n",
       "</div>"
      ],
      "text/plain": [
       "Empty DataFrame\n",
       "Columns: [id, grp]\n",
       "Index: []"
      ]
     },
     "execution_count": 20,
     "metadata": {},
     "output_type": "execute_result"
    }
   ],
   "source": [
    "add_group[add_group.duplicated ()]"
   ]
  },
  {
   "cell_type": "markdown",
   "id": "892db673",
   "metadata": {},
   "source": [
    "#### Первым делом необходимо проверить корректно ли проведено сплитование на группы. Т.к. из информации о группах у нас есть только размер групп, то корректно провести проверку не получится. Поэтому, предположим, что сплитирование произведено верно и продолжим дальнейший анализ.\n",
    "\n",
    "##### Для начала объединяем данные с группами в один датафрэйм и считаем количество пользователей в каждой группе"
   ]
  },
  {
   "cell_type": "code",
   "execution_count": 21,
   "id": "ee6b5ea0",
   "metadata": {
    "scrolled": true
   },
   "outputs": [
    {
     "data": {
      "text/html": [
       "<div>\n",
       "<style scoped>\n",
       "    .dataframe tbody tr th:only-of-type {\n",
       "        vertical-align: middle;\n",
       "    }\n",
       "\n",
       "    .dataframe tbody tr th {\n",
       "        vertical-align: top;\n",
       "    }\n",
       "\n",
       "    .dataframe thead th {\n",
       "        text-align: right;\n",
       "    }\n",
       "</style>\n",
       "<table border=\"1\" class=\"dataframe\">\n",
       "  <thead>\n",
       "    <tr style=\"text-align: right;\">\n",
       "      <th></th>\n",
       "      <th>id</th>\n",
       "      <th>grp</th>\n",
       "    </tr>\n",
       "  </thead>\n",
       "  <tbody>\n",
       "    <tr>\n",
       "      <th>0</th>\n",
       "      <td>1489</td>\n",
       "      <td>B</td>\n",
       "    </tr>\n",
       "    <tr>\n",
       "      <th>1</th>\n",
       "      <td>1627</td>\n",
       "      <td>A</td>\n",
       "    </tr>\n",
       "    <tr>\n",
       "      <th>2</th>\n",
       "      <td>1768</td>\n",
       "      <td>B</td>\n",
       "    </tr>\n",
       "    <tr>\n",
       "      <th>3</th>\n",
       "      <td>1783</td>\n",
       "      <td>B</td>\n",
       "    </tr>\n",
       "    <tr>\n",
       "      <th>4</th>\n",
       "      <td>1794</td>\n",
       "      <td>A</td>\n",
       "    </tr>\n",
       "  </tbody>\n",
       "</table>\n",
       "</div>"
      ],
      "text/plain": [
       "     id grp\n",
       "0  1489   B\n",
       "1  1627   A\n",
       "2  1768   B\n",
       "3  1783   B\n",
       "4  1794   A"
      ]
     },
     "execution_count": 21,
     "metadata": {},
     "output_type": "execute_result"
    }
   ],
   "source": [
    "all_users = pd.concat([groups, add_group]).drop_duplicates()\n",
    "all_users.head()"
   ]
  },
  {
   "cell_type": "code",
   "execution_count": 22,
   "id": "8ada0ab2",
   "metadata": {},
   "outputs": [
    {
     "data": {
      "text/plain": [
       "74576"
      ]
     },
     "execution_count": 22,
     "metadata": {},
     "output_type": "execute_result"
    }
   ],
   "source": [
    "# посчитала количество уникальных пользователей\n",
    "all_users.id.nunique()"
   ]
  },
  {
   "cell_type": "code",
   "execution_count": 23,
   "id": "6373bf5c",
   "metadata": {},
   "outputs": [
    {
     "data": {
      "text/html": [
       "<div>\n",
       "<style scoped>\n",
       "    .dataframe tbody tr th:only-of-type {\n",
       "        vertical-align: middle;\n",
       "    }\n",
       "\n",
       "    .dataframe tbody tr th {\n",
       "        vertical-align: top;\n",
       "    }\n",
       "\n",
       "    .dataframe thead th {\n",
       "        text-align: right;\n",
       "    }\n",
       "</style>\n",
       "<table border=\"1\" class=\"dataframe\">\n",
       "  <thead>\n",
       "    <tr style=\"text-align: right;\">\n",
       "      <th></th>\n",
       "      <th>grp</th>\n",
       "      <th>all_users</th>\n",
       "    </tr>\n",
       "  </thead>\n",
       "  <tbody>\n",
       "    <tr>\n",
       "      <th>0</th>\n",
       "      <td>A</td>\n",
       "      <td>14693</td>\n",
       "    </tr>\n",
       "    <tr>\n",
       "      <th>1</th>\n",
       "      <td>B</td>\n",
       "      <td>59883</td>\n",
       "    </tr>\n",
       "  </tbody>\n",
       "</table>\n",
       "</div>"
      ],
      "text/plain": [
       "  grp  all_users\n",
       "0   A      14693\n",
       "1   B      59883"
      ]
     },
     "execution_count": 23,
     "metadata": {},
     "output_type": "execute_result"
    }
   ],
   "source": [
    "df = all_users.groupby('grp', as_index=False)\\\n",
    "    .agg({'id':'nunique'})\\\n",
    "    .rename(columns={'id':'all_users'})\n",
    "df"
   ]
  },
  {
   "cell_type": "code",
   "execution_count": 24,
   "id": "cf6a28b1",
   "metadata": {},
   "outputs": [
    {
     "data": {
      "text/plain": [
       "20"
      ]
     },
     "execution_count": 24,
     "metadata": {},
     "output_type": "execute_result"
    }
   ],
   "source": [
    "# считаем % пользователей в контрольной группе\n",
    "round(14693/74576 * 100)"
   ]
  },
  {
   "cell_type": "code",
   "execution_count": 25,
   "id": "7b97111f",
   "metadata": {},
   "outputs": [
    {
     "data": {
      "text/plain": [
       "80"
      ]
     },
     "execution_count": 25,
     "metadata": {},
     "output_type": "execute_result"
    }
   ],
   "source": [
    "# считаем % пользователей в тестовой группе\n",
    "round(59883/74576 * 100)"
   ]
  },
  {
   "cell_type": "code",
   "execution_count": 26,
   "id": "297a5354",
   "metadata": {},
   "outputs": [
    {
     "data": {
      "text/plain": [
       "Power_divergenceResult(statistic=27383.288189229777, pvalue=0.0)"
      ]
     },
     "execution_count": 26,
     "metadata": {},
     "output_type": "execute_result"
    }
   ],
   "source": [
    "# проверяем сплитование с помощью х-квадрата\n",
    "chisquare(df['all_users'])"
   ]
  },
  {
   "cell_type": "markdown",
   "id": "ba603afd",
   "metadata": {},
   "source": [
    "#### Видим, что пользователей в тестовой группе на 60% больше, чем в контрольной. Так же, используя х-квадрат для проверки правильно ли разделены группы, получили  pvalue=0.0.Возможно это ошибка сплитования, но мы предположили, что сплитование разделено верно, т.к. в группах важно учитывать не только количество участников, но и такие параметры как, например, пол, возраст, платформу, регион и тп."
   ]
  },
  {
   "cell_type": "markdown",
   "id": "c5127e90",
   "metadata": {},
   "source": [
    "#### Дальше посчитаем активных пользователей в каждой группе и с помощью критерия хи-квадрат, мы можем проверить нулевую гипотезу о том, что пропорции активных пользователей равны пропорциям объема групп."
   ]
  },
  {
   "cell_type": "code",
   "execution_count": 27,
   "id": "4297b0e5",
   "metadata": {},
   "outputs": [],
   "source": [
    "all_users = all_users.rename(columns={'id':'student_id'})"
   ]
  },
  {
   "cell_type": "code",
   "execution_count": 30,
   "id": "b41d6064",
   "metadata": {},
   "outputs": [
    {
     "data": {
      "text/html": [
       "<div>\n",
       "<style scoped>\n",
       "    .dataframe tbody tr th:only-of-type {\n",
       "        vertical-align: middle;\n",
       "    }\n",
       "\n",
       "    .dataframe tbody tr th {\n",
       "        vertical-align: top;\n",
       "    }\n",
       "\n",
       "    .dataframe thead th {\n",
       "        text-align: right;\n",
       "    }\n",
       "</style>\n",
       "<table border=\"1\" class=\"dataframe\">\n",
       "  <thead>\n",
       "    <tr style=\"text-align: right;\">\n",
       "      <th></th>\n",
       "      <th>student_id</th>\n",
       "      <th>grp</th>\n",
       "    </tr>\n",
       "  </thead>\n",
       "  <tbody>\n",
       "    <tr>\n",
       "      <th>0</th>\n",
       "      <td>581585</td>\n",
       "      <td>A</td>\n",
       "    </tr>\n",
       "    <tr>\n",
       "      <th>1</th>\n",
       "      <td>5723133</td>\n",
       "      <td>A</td>\n",
       "    </tr>\n",
       "    <tr>\n",
       "      <th>2</th>\n",
       "      <td>3276743</td>\n",
       "      <td>B</td>\n",
       "    </tr>\n",
       "    <tr>\n",
       "      <th>3</th>\n",
       "      <td>4238589</td>\n",
       "      <td>A</td>\n",
       "    </tr>\n",
       "    <tr>\n",
       "      <th>4</th>\n",
       "      <td>4475369</td>\n",
       "      <td>B</td>\n",
       "    </tr>\n",
       "  </tbody>\n",
       "</table>\n",
       "</div>"
      ],
      "text/plain": [
       "   student_id grp\n",
       "0      581585   A\n",
       "1     5723133   A\n",
       "2     3276743   B\n",
       "3     4238589   A\n",
       "4     4475369   B"
      ]
     },
     "execution_count": 30,
     "metadata": {},
     "output_type": "execute_result"
    }
   ],
   "source": [
    "# соединили таблицу активных пользователей с данными обо всех студентов left join, тем самым отобрав только активных \n",
    "# студентов в каждой группе.\n",
    "active_students = active_studs.merge(all_users, on='student_id', how='left').drop_duplicates()\n",
    "active_students.head()"
   ]
  },
  {
   "cell_type": "code",
   "execution_count": 31,
   "id": "e8ed921b",
   "metadata": {},
   "outputs": [
    {
     "data": {
      "text/html": [
       "<div>\n",
       "<style scoped>\n",
       "    .dataframe tbody tr th:only-of-type {\n",
       "        vertical-align: middle;\n",
       "    }\n",
       "\n",
       "    .dataframe tbody tr th {\n",
       "        vertical-align: top;\n",
       "    }\n",
       "\n",
       "    .dataframe thead th {\n",
       "        text-align: right;\n",
       "    }\n",
       "</style>\n",
       "<table border=\"1\" class=\"dataframe\">\n",
       "  <thead>\n",
       "    <tr style=\"text-align: right;\">\n",
       "      <th></th>\n",
       "      <th>grp</th>\n",
       "      <th>active_studs</th>\n",
       "    </tr>\n",
       "  </thead>\n",
       "  <tbody>\n",
       "    <tr>\n",
       "      <th>0</th>\n",
       "      <td>A</td>\n",
       "      <td>1538</td>\n",
       "    </tr>\n",
       "    <tr>\n",
       "      <th>1</th>\n",
       "      <td>B</td>\n",
       "      <td>6803</td>\n",
       "    </tr>\n",
       "  </tbody>\n",
       "</table>\n",
       "</div>"
      ],
      "text/plain": [
       "  grp  active_studs\n",
       "0   A          1538\n",
       "1   B          6803"
      ]
     },
     "execution_count": 31,
     "metadata": {},
     "output_type": "execute_result"
    }
   ],
   "source": [
    "# посчитали количество активных пользователей\n",
    "count_active = active_students.groupby('grp', as_index = False)\\\n",
    "    .agg({'student_id':'count'})\\\n",
    "    .rename(columns=({'student_id': 'active_studs'}))\n",
    "count_active"
   ]
  },
  {
   "cell_type": "code",
   "execution_count": 32,
   "id": "9ec72334",
   "metadata": {},
   "outputs": [
    {
     "data": {
      "text/plain": [
       "10"
      ]
     },
     "execution_count": 32,
     "metadata": {},
     "output_type": "execute_result"
    }
   ],
   "source": [
    "round((1538/14693*100))"
   ]
  },
  {
   "cell_type": "code",
   "execution_count": 33,
   "id": "8c6355ac",
   "metadata": {},
   "outputs": [
    {
     "data": {
      "text/plain": [
       "11"
      ]
     },
     "execution_count": 33,
     "metadata": {},
     "output_type": "execute_result"
    }
   ],
   "source": [
    "round((6803/59883*100))"
   ]
  },
  {
   "cell_type": "code",
   "execution_count": 34,
   "id": "154d60e8",
   "metadata": {},
   "outputs": [],
   "source": [
    "# Используя критерий хи-квадрат, мы можем проверить нулевую гипотезу о том, что пропорции активных пользователей равны \n",
    "# пропорциям объема групп."
   ]
  },
  {
   "cell_type": "code",
   "execution_count": 35,
   "id": "18a53136",
   "metadata": {},
   "outputs": [],
   "source": [
    "f_exp = np.array([20, 80])/100 *8341 "
   ]
  },
  {
   "cell_type": "code",
   "execution_count": 36,
   "id": "d54b1548",
   "metadata": {},
   "outputs": [],
   "source": [
    "f_obs = np.array([1538, 6803])"
   ]
  },
  {
   "cell_type": "code",
   "execution_count": 37,
   "id": "717eaaf4",
   "metadata": {},
   "outputs": [
    {
     "data": {
      "text/plain": [
       "Power_divergenceResult(statistic=12.70234384366383, pvalue=0.00036519754734757736)"
      ]
     },
     "execution_count": 37,
     "metadata": {},
     "output_type": "execute_result"
    }
   ],
   "source": [
    "chisquare(f_obs=f_obs, f_exp=f_exp)"
   ]
  },
  {
   "cell_type": "markdown",
   "id": "3325564f",
   "metadata": {},
   "source": [
    "#### Используя х-квадрат для проверки пропорций групп активных пользователей к общему число пользователей, получили pvalue=0.00036. Т.к. мы берем уровень альфа, равным 5%, то ОТКЛОНЯЕМ нулевую гипотезу о том, что относительные пропорции событий активности пользователей были такими же, как относительные пропорции объема всех пользователей. Если бы мы считали метрики, где используется соотношение активных пользователей ко всем пользователям, то результаты были бы не корректными.\n",
    "#### Но в данном конкретном случае нам интереснее проверить платящих пользователей, поскольку новая механика была направлена на оплату на сайте, а механизм оплаты не влияет на активность пользователей на сайте."
   ]
  },
  {
   "cell_type": "markdown",
   "id": "94483df4",
   "metadata": {},
   "source": [
    "#### Исходя из этого, следующим шагом проверим соотношение клиентов (платящих пользователей) к пользователям в каждой группе"
   ]
  },
  {
   "cell_type": "code",
   "execution_count": 38,
   "id": "d0c13414",
   "metadata": {},
   "outputs": [
    {
     "data": {
      "text/html": [
       "<div>\n",
       "<style scoped>\n",
       "    .dataframe tbody tr th:only-of-type {\n",
       "        vertical-align: middle;\n",
       "    }\n",
       "\n",
       "    .dataframe tbody tr th {\n",
       "        vertical-align: top;\n",
       "    }\n",
       "\n",
       "    .dataframe thead th {\n",
       "        text-align: right;\n",
       "    }\n",
       "</style>\n",
       "<table border=\"1\" class=\"dataframe\">\n",
       "  <thead>\n",
       "    <tr style=\"text-align: right;\">\n",
       "      <th></th>\n",
       "      <th>student_id</th>\n",
       "      <th>grp</th>\n",
       "      <th>rev</th>\n",
       "    </tr>\n",
       "  </thead>\n",
       "  <tbody>\n",
       "    <tr>\n",
       "      <th>0</th>\n",
       "      <td>1489</td>\n",
       "      <td>B</td>\n",
       "      <td>0.0</td>\n",
       "    </tr>\n",
       "    <tr>\n",
       "      <th>1</th>\n",
       "      <td>1627</td>\n",
       "      <td>A</td>\n",
       "      <td>990.0</td>\n",
       "    </tr>\n",
       "    <tr>\n",
       "      <th>2</th>\n",
       "      <td>1768</td>\n",
       "      <td>B</td>\n",
       "      <td>0.0</td>\n",
       "    </tr>\n",
       "    <tr>\n",
       "      <th>3</th>\n",
       "      <td>1783</td>\n",
       "      <td>B</td>\n",
       "      <td>0.0</td>\n",
       "    </tr>\n",
       "    <tr>\n",
       "      <th>4</th>\n",
       "      <td>1794</td>\n",
       "      <td>A</td>\n",
       "      <td>0.0</td>\n",
       "    </tr>\n",
       "  </tbody>\n",
       "</table>\n",
       "</div>"
      ],
      "text/plain": [
       "   student_id grp    rev\n",
       "0        1489   B    0.0\n",
       "1        1627   A  990.0\n",
       "2        1768   B    0.0\n",
       "3        1783   B    0.0\n",
       "4        1794   A    0.0"
      ]
     },
     "execution_count": 38,
     "metadata": {},
     "output_type": "execute_result"
    }
   ],
   "source": [
    "# К таблице с id пользователей добавила данные о покупках\n",
    "all_df = all_users.merge(checks, on = 'student_id', how='left').fillna(0)\n",
    "all_df.head()"
   ]
  },
  {
   "cell_type": "markdown",
   "id": "ee159b97",
   "metadata": {},
   "source": [
    "#### Посчитаем сколько в каждой группе платящих пользователей:"
   ]
  },
  {
   "cell_type": "code",
   "execution_count": 39,
   "id": "daf4e316",
   "metadata": {},
   "outputs": [
    {
     "data": {
      "text/html": [
       "<div>\n",
       "<style scoped>\n",
       "    .dataframe tbody tr th:only-of-type {\n",
       "        vertical-align: middle;\n",
       "    }\n",
       "\n",
       "    .dataframe tbody tr th {\n",
       "        vertical-align: top;\n",
       "    }\n",
       "\n",
       "    .dataframe thead th {\n",
       "        text-align: right;\n",
       "    }\n",
       "</style>\n",
       "<table border=\"1\" class=\"dataframe\">\n",
       "  <thead>\n",
       "    <tr style=\"text-align: right;\">\n",
       "      <th></th>\n",
       "      <th>grp</th>\n",
       "      <th>paying_users</th>\n",
       "    </tr>\n",
       "  </thead>\n",
       "  <tbody>\n",
       "    <tr>\n",
       "      <th>0</th>\n",
       "      <td>A</td>\n",
       "      <td>107</td>\n",
       "    </tr>\n",
       "    <tr>\n",
       "      <th>1</th>\n",
       "      <td>B</td>\n",
       "      <td>434</td>\n",
       "    </tr>\n",
       "  </tbody>\n",
       "</table>\n",
       "</div>"
      ],
      "text/plain": [
       "  grp  paying_users\n",
       "0   A           107\n",
       "1   B           434"
      ]
     },
     "execution_count": 39,
     "metadata": {},
     "output_type": "execute_result"
    }
   ],
   "source": [
    "paying_users = all_df.query('rev>0')\\\n",
    "    .groupby('grp',as_index=False)\\\n",
    "    .agg({'student_id':'nunique'})\\\n",
    "    .rename(columns={'student_id':'paying_users'})\n",
    "paying_users"
   ]
  },
  {
   "cell_type": "code",
   "execution_count": 40,
   "id": "4489ba0a",
   "metadata": {},
   "outputs": [],
   "source": [
    "df = df.merge(paying_users, on='grp')"
   ]
  },
  {
   "cell_type": "code",
   "execution_count": 41,
   "id": "c37f6efc",
   "metadata": {
    "scrolled": true
   },
   "outputs": [
    {
     "data": {
      "text/html": [
       "<div>\n",
       "<style scoped>\n",
       "    .dataframe tbody tr th:only-of-type {\n",
       "        vertical-align: middle;\n",
       "    }\n",
       "\n",
       "    .dataframe tbody tr th {\n",
       "        vertical-align: top;\n",
       "    }\n",
       "\n",
       "    .dataframe thead th {\n",
       "        text-align: right;\n",
       "    }\n",
       "</style>\n",
       "<table border=\"1\" class=\"dataframe\">\n",
       "  <thead>\n",
       "    <tr style=\"text-align: right;\">\n",
       "      <th></th>\n",
       "      <th>grp</th>\n",
       "      <th>all_users</th>\n",
       "      <th>paying_users</th>\n",
       "    </tr>\n",
       "  </thead>\n",
       "  <tbody>\n",
       "    <tr>\n",
       "      <th>0</th>\n",
       "      <td>A</td>\n",
       "      <td>14693</td>\n",
       "      <td>107</td>\n",
       "    </tr>\n",
       "    <tr>\n",
       "      <th>1</th>\n",
       "      <td>B</td>\n",
       "      <td>59883</td>\n",
       "      <td>434</td>\n",
       "    </tr>\n",
       "  </tbody>\n",
       "</table>\n",
       "</div>"
      ],
      "text/plain": [
       "  grp  all_users  paying_users\n",
       "0   A      14693           107\n",
       "1   B      59883           434"
      ]
     },
     "execution_count": 41,
     "metadata": {},
     "output_type": "execute_result"
    }
   ],
   "source": [
    "df"
   ]
  },
  {
   "cell_type": "code",
   "execution_count": 42,
   "id": "7b31d4b8",
   "metadata": {
    "scrolled": true
   },
   "outputs": [
    {
     "data": {
      "text/plain": [
       "0.7"
      ]
     },
     "execution_count": 42,
     "metadata": {},
     "output_type": "execute_result"
    }
   ],
   "source": [
    "# посчитали процент клиентов в каждой группе\n",
    "round((107/14693 *100),1)"
   ]
  },
  {
   "cell_type": "code",
   "execution_count": 43,
   "id": "34f2333f",
   "metadata": {
    "scrolled": true
   },
   "outputs": [
    {
     "data": {
      "text/plain": [
       "0.7"
      ]
     },
     "execution_count": 43,
     "metadata": {},
     "output_type": "execute_result"
    }
   ],
   "source": [
    "round((434/59883*100),1)"
   ]
  },
  {
   "cell_type": "markdown",
   "id": "13b04574",
   "metadata": {},
   "source": [
    "####  Видим, что проценты платящих пользователей в каждой группе равны.\n",
    "\n",
    "#### С помощью критерия хи-квадрат, мы можем проверить нулевую гипотезу о том, что пропорции групп платящих пользователей равны пропорциям объема групп всех пользователей.¶"
   ]
  },
  {
   "cell_type": "code",
   "execution_count": 44,
   "id": "ff7bf607",
   "metadata": {},
   "outputs": [],
   "source": [
    "f_exp_1 = np.array([20, 80])/100 *541"
   ]
  },
  {
   "cell_type": "code",
   "execution_count": 45,
   "id": "90174f28",
   "metadata": {},
   "outputs": [],
   "source": [
    "f_obs_1 = np.array([107, 434])"
   ]
  },
  {
   "cell_type": "code",
   "execution_count": 46,
   "id": "0e3dc510",
   "metadata": {},
   "outputs": [
    {
     "data": {
      "text/plain": [
       "Power_divergenceResult(statistic=0.0166358595194085, pvalue=0.8973734156680122)"
      ]
     },
     "execution_count": 46,
     "metadata": {},
     "output_type": "execute_result"
    }
   ],
   "source": [
    "chisquare(f_obs=f_obs_1, f_exp=f_exp_1)"
   ]
  },
  {
   "cell_type": "markdown",
   "id": "bbf9cb23",
   "metadata": {},
   "source": [
    "##### Получили p_value = 0.897-  это говорит нам о том, что мы не можем отклонить  нулевую гипотезу о том, пропорции групп платящих пользователей равны пропорциям объема групп всех пользователей.\n",
    "\n",
    "##### Теперь Проверим соотношение активнх пользователей в каждой группе ко всем активнх пользователям, затем проверим соотношение  числа клиентов к числу АКТИВНЫХ пользователей  и с помощью критерия хи-квадрат, мы можем проверить нулевую гипотезу о том, что пропорции групп клиентов равны пропорциям объема групп активных пользователей"
   ]
  },
  {
   "cell_type": "code",
   "execution_count": 47,
   "id": "65fa2c0d",
   "metadata": {},
   "outputs": [
    {
     "data": {
      "text/plain": [
       "18"
      ]
     },
     "execution_count": 47,
     "metadata": {},
     "output_type": "execute_result"
    }
   ],
   "source": [
    "# % активных пользователей в группе А\n",
    "round(1538/8341 * 100)"
   ]
  },
  {
   "cell_type": "code",
   "execution_count": 48,
   "id": "1ac9fb9c",
   "metadata": {},
   "outputs": [
    {
     "data": {
      "text/plain": [
       "82"
      ]
     },
     "execution_count": 48,
     "metadata": {},
     "output_type": "execute_result"
    }
   ],
   "source": [
    "# % активных пользователей в группе В\n",
    "round(6803/8341 * 100)"
   ]
  },
  {
   "cell_type": "code",
   "execution_count": 49,
   "id": "5b371b57",
   "metadata": {},
   "outputs": [
    {
     "data": {
      "text/plain": [
       "7.0"
      ]
     },
     "execution_count": 49,
     "metadata": {},
     "output_type": "execute_result"
    }
   ],
   "source": [
    "# считаю процент платящих пользователей от активных в группе А\n",
    "round((107/1538 *100),1)"
   ]
  },
  {
   "cell_type": "code",
   "execution_count": 50,
   "id": "a9f0a7f3",
   "metadata": {
    "scrolled": true
   },
   "outputs": [
    {
     "data": {
      "text/plain": [
       "6.4"
      ]
     },
     "execution_count": 50,
     "metadata": {},
     "output_type": "execute_result"
    }
   ],
   "source": [
    "# считаю процент платящих пользователей от активных в группе В\n",
    "round((434/6803*100),1)"
   ]
  },
  {
   "cell_type": "markdown",
   "id": "aa920bdb",
   "metadata": {},
   "source": [
    "#### С помощью критерия хи-квадрат, мы можем проверить нулевую гипотезу о том, что пропорции групп платящих пользователей равны пропорциям объема групп АКТИВНЫХ пользователей.¶"
   ]
  },
  {
   "cell_type": "code",
   "execution_count": 51,
   "id": "959758ac",
   "metadata": {},
   "outputs": [],
   "source": [
    "f_exp_2 = np.array([18, 82])/100 *541"
   ]
  },
  {
   "cell_type": "code",
   "execution_count": 52,
   "id": "2d30615c",
   "metadata": {},
   "outputs": [],
   "source": [
    "f_obs_2 = np.array([107, 434])"
   ]
  },
  {
   "cell_type": "code",
   "execution_count": 53,
   "id": "f43a7515",
   "metadata": {},
   "outputs": [
    {
     "data": {
      "text/plain": [
       "Power_divergenceResult(statistic=1.1589548612676501, pvalue=0.28168239848746335)"
      ]
     },
     "execution_count": 53,
     "metadata": {},
     "output_type": "execute_result"
    }
   ],
   "source": [
    "chisquare(f_obs=f_obs_2, f_exp=f_exp_2)"
   ]
  },
  {
   "cell_type": "markdown",
   "id": "556029e3",
   "metadata": {},
   "source": [
    "##### Получили p_value = 0.281-  это говорит нам о том, что мы не можем отклонить  нулевую гипотезу о том, пропорции групп платящих пользователей равны пропорциям объема групп активных пользователей.\n",
    "##### Следовательно можем проводить дальнейший анализ и подобрать необходимые метрики для анализа.\n",
    "##### Исходя из полученных нами данных, мы можем поссчитать такие метрики как  ARPU(средний доход с привлеченного пользователя), ARPPU (средний доход с привлеченного клиента). Значения СR(конверсия в покупку: и относительная, и абсолютная) в группах статистически значимо не отличаются, т.к. статистически значимо не отличаются  проценты клиентов в каждой группе."
   ]
  },
  {
   "cell_type": "code",
   "execution_count": 78,
   "id": "49b3b985",
   "metadata": {},
   "outputs": [],
   "source": [
    "metrics = all_df.query('rev>0')\\\n",
    "    .groupby('grp', as_index = False)\\\n",
    "    .agg({'rev':'sum', 'student_id':'nunique'})\\\n",
    "    .rename(columns={'student_id':'paying_users'})\\\n",
    "    .round()\n",
    "metrics = metrics.merge(df, on=['grp','paying_users'])"
   ]
  },
  {
   "cell_type": "code",
   "execution_count": 79,
   "id": "fa342d0e",
   "metadata": {
    "scrolled": true
   },
   "outputs": [],
   "source": [
    "metrics = metrics.merge(count_active, on = 'grp')"
   ]
  },
  {
   "cell_type": "code",
   "execution_count": 80,
   "id": "0abedd9e",
   "metadata": {
    "scrolled": true
   },
   "outputs": [
    {
     "data": {
      "text/html": [
       "<div>\n",
       "<style scoped>\n",
       "    .dataframe tbody tr th:only-of-type {\n",
       "        vertical-align: middle;\n",
       "    }\n",
       "\n",
       "    .dataframe tbody tr th {\n",
       "        vertical-align: top;\n",
       "    }\n",
       "\n",
       "    .dataframe thead th {\n",
       "        text-align: right;\n",
       "    }\n",
       "</style>\n",
       "<table border=\"1\" class=\"dataframe\">\n",
       "  <thead>\n",
       "    <tr style=\"text-align: right;\">\n",
       "      <th></th>\n",
       "      <th>grp</th>\n",
       "      <th>rev</th>\n",
       "      <th>paying_users</th>\n",
       "      <th>all_users</th>\n",
       "      <th>active_studs</th>\n",
       "    </tr>\n",
       "  </thead>\n",
       "  <tbody>\n",
       "    <tr>\n",
       "      <th>0</th>\n",
       "      <td>A</td>\n",
       "      <td>92096.0</td>\n",
       "      <td>107</td>\n",
       "      <td>14693</td>\n",
       "      <td>1538</td>\n",
       "    </tr>\n",
       "    <tr>\n",
       "      <th>1</th>\n",
       "      <td>B</td>\n",
       "      <td>481230.0</td>\n",
       "      <td>434</td>\n",
       "      <td>59883</td>\n",
       "      <td>6803</td>\n",
       "    </tr>\n",
       "  </tbody>\n",
       "</table>\n",
       "</div>"
      ],
      "text/plain": [
       "  grp       rev  paying_users  all_users  active_studs\n",
       "0   A   92096.0           107      14693          1538\n",
       "1   B  481230.0           434      59883          6803"
      ]
     },
     "execution_count": 80,
     "metadata": {},
     "output_type": "execute_result"
    }
   ],
   "source": [
    "metrics"
   ]
  },
  {
   "cell_type": "code",
   "execution_count": 81,
   "id": "efca53cf",
   "metadata": {},
   "outputs": [],
   "source": [
    "metrics['cr'] = round((metrics.paying_users/metrics.all_users *100),2)\n",
    "metrics['cr_active'] = round((metrics.paying_users/metrics.active_studs *100),2)"
   ]
  },
  {
   "cell_type": "markdown",
   "id": "e26cc95d",
   "metadata": {},
   "source": [
    "#### Посчитаем ARPU для каждой группы пользователей (средний доход с привлеченного пользователя)\n",
    "###### ARPU = доход/ количество пользователей"
   ]
  },
  {
   "cell_type": "code",
   "execution_count": 82,
   "id": "a1a0541f",
   "metadata": {},
   "outputs": [],
   "source": [
    "metrics['arpu'] = metrics.rev/metrics.all_users"
   ]
  },
  {
   "cell_type": "code",
   "execution_count": 83,
   "id": "2e57e16c",
   "metadata": {
    "scrolled": true
   },
   "outputs": [
    {
     "data": {
      "text/html": [
       "<div>\n",
       "<style scoped>\n",
       "    .dataframe tbody tr th:only-of-type {\n",
       "        vertical-align: middle;\n",
       "    }\n",
       "\n",
       "    .dataframe tbody tr th {\n",
       "        vertical-align: top;\n",
       "    }\n",
       "\n",
       "    .dataframe thead th {\n",
       "        text-align: right;\n",
       "    }\n",
       "</style>\n",
       "<table border=\"1\" class=\"dataframe\">\n",
       "  <thead>\n",
       "    <tr style=\"text-align: right;\">\n",
       "      <th></th>\n",
       "      <th>grp</th>\n",
       "      <th>rev</th>\n",
       "      <th>paying_users</th>\n",
       "      <th>all_users</th>\n",
       "      <th>active_studs</th>\n",
       "      <th>cr</th>\n",
       "      <th>cr_active</th>\n",
       "      <th>arpu</th>\n",
       "    </tr>\n",
       "  </thead>\n",
       "  <tbody>\n",
       "    <tr>\n",
       "      <th>0</th>\n",
       "      <td>A</td>\n",
       "      <td>92096.0</td>\n",
       "      <td>107</td>\n",
       "      <td>14693</td>\n",
       "      <td>1538</td>\n",
       "      <td>0.73</td>\n",
       "      <td>6.96</td>\n",
       "      <td>6.268019</td>\n",
       "    </tr>\n",
       "    <tr>\n",
       "      <th>1</th>\n",
       "      <td>B</td>\n",
       "      <td>481230.0</td>\n",
       "      <td>434</td>\n",
       "      <td>59883</td>\n",
       "      <td>6803</td>\n",
       "      <td>0.72</td>\n",
       "      <td>6.38</td>\n",
       "      <td>8.036171</td>\n",
       "    </tr>\n",
       "  </tbody>\n",
       "</table>\n",
       "</div>"
      ],
      "text/plain": [
       "  grp       rev  paying_users  all_users  active_studs    cr  cr_active   \n",
       "0   A   92096.0           107      14693          1538  0.73       6.96  \\\n",
       "1   B  481230.0           434      59883          6803  0.72       6.38   \n",
       "\n",
       "       arpu  \n",
       "0  6.268019  \n",
       "1  8.036171  "
      ]
     },
     "execution_count": 83,
     "metadata": {},
     "output_type": "execute_result"
    }
   ],
   "source": [
    "metrics"
   ]
  },
  {
   "cell_type": "markdown",
   "id": "d424069c",
   "metadata": {},
   "source": [
    "##### Проверим есть ли статистически значимые различия между группами.\n",
    "##### Предположим, что разлий нет - Н0, различия есть - Н1"
   ]
  },
  {
   "cell_type": "code",
   "execution_count": 84,
   "id": "ee9cf70f",
   "metadata": {
    "scrolled": true
   },
   "outputs": [
    {
     "data": {
      "text/html": [
       "<div>\n",
       "<style scoped>\n",
       "    .dataframe tbody tr th:only-of-type {\n",
       "        vertical-align: middle;\n",
       "    }\n",
       "\n",
       "    .dataframe tbody tr th {\n",
       "        vertical-align: top;\n",
       "    }\n",
       "\n",
       "    .dataframe thead th {\n",
       "        text-align: right;\n",
       "    }\n",
       "</style>\n",
       "<table border=\"1\" class=\"dataframe\">\n",
       "  <thead>\n",
       "    <tr style=\"text-align: right;\">\n",
       "      <th></th>\n",
       "      <th>student_id</th>\n",
       "      <th>grp</th>\n",
       "      <th>rev</th>\n",
       "    </tr>\n",
       "  </thead>\n",
       "  <tbody>\n",
       "    <tr>\n",
       "      <th>0</th>\n",
       "      <td>1489</td>\n",
       "      <td>B</td>\n",
       "      <td>0.0</td>\n",
       "    </tr>\n",
       "    <tr>\n",
       "      <th>1</th>\n",
       "      <td>1627</td>\n",
       "      <td>A</td>\n",
       "      <td>990.0</td>\n",
       "    </tr>\n",
       "    <tr>\n",
       "      <th>2</th>\n",
       "      <td>1768</td>\n",
       "      <td>B</td>\n",
       "      <td>0.0</td>\n",
       "    </tr>\n",
       "    <tr>\n",
       "      <th>3</th>\n",
       "      <td>1783</td>\n",
       "      <td>B</td>\n",
       "      <td>0.0</td>\n",
       "    </tr>\n",
       "    <tr>\n",
       "      <th>4</th>\n",
       "      <td>1794</td>\n",
       "      <td>A</td>\n",
       "      <td>0.0</td>\n",
       "    </tr>\n",
       "  </tbody>\n",
       "</table>\n",
       "</div>"
      ],
      "text/plain": [
       "   student_id grp    rev\n",
       "0        1489   B    0.0\n",
       "1        1627   A  990.0\n",
       "2        1768   B    0.0\n",
       "3        1783   B    0.0\n",
       "4        1794   A    0.0"
      ]
     },
     "execution_count": 84,
     "metadata": {},
     "output_type": "execute_result"
    }
   ],
   "source": [
    "all_df.head()"
   ]
  },
  {
   "cell_type": "code",
   "execution_count": null,
   "id": "1275f222",
   "metadata": {},
   "outputs": [],
   "source": []
  },
  {
   "cell_type": "code",
   "execution_count": 85,
   "id": "b76dd638",
   "metadata": {},
   "outputs": [
    {
     "data": {
      "text/plain": [
       "<AxesSubplot:xlabel='grp', ylabel='rev'>"
      ]
     },
     "execution_count": 85,
     "metadata": {},
     "output_type": "execute_result"
    },
    {
     "data": {
      "image/png": "[encoded data removed]",
      "text/plain": [
       "<Figure size 432x288 with 1 Axes>"
      ]
     },
     "metadata": {},
     "output_type": "display_data"
    }
   ],
   "source": [
    "sns.boxplot(x='grp',y='rev', data = all_df)"
   ]
  },
  {
   "cell_type": "code",
   "execution_count": 86,
   "id": "d851cd32",
   "metadata": {},
   "outputs": [
    {
     "data": {
      "text/html": [
       "<div>\n",
       "<style scoped>\n",
       "    .dataframe tbody tr th:only-of-type {\n",
       "        vertical-align: middle;\n",
       "    }\n",
       "\n",
       "    .dataframe tbody tr th {\n",
       "        vertical-align: top;\n",
       "    }\n",
       "\n",
       "    .dataframe thead th {\n",
       "        text-align: right;\n",
       "    }\n",
       "</style>\n",
       "<table border=\"1\" class=\"dataframe\">\n",
       "  <thead>\n",
       "    <tr style=\"text-align: right;\">\n",
       "      <th></th>\n",
       "      <th>student_id</th>\n",
       "      <th>rev</th>\n",
       "    </tr>\n",
       "  </thead>\n",
       "  <tbody>\n",
       "    <tr>\n",
       "      <th>count</th>\n",
       "      <td>7.457600e+04</td>\n",
       "      <td>74576.000000</td>\n",
       "    </tr>\n",
       "    <tr>\n",
       "      <th>mean</th>\n",
       "      <td>2.165617e+06</td>\n",
       "      <td>7.687808</td>\n",
       "    </tr>\n",
       "    <tr>\n",
       "      <th>std</th>\n",
       "      <td>2.786959e+06</td>\n",
       "      <td>110.907645</td>\n",
       "    </tr>\n",
       "    <tr>\n",
       "      <th>min</th>\n",
       "      <td>1.489000e+03</td>\n",
       "      <td>0.000000</td>\n",
       "    </tr>\n",
       "    <tr>\n",
       "      <th>25%</th>\n",
       "      <td>9.197188e+05</td>\n",
       "      <td>0.000000</td>\n",
       "    </tr>\n",
       "    <tr>\n",
       "      <th>50%</th>\n",
       "      <td>1.669752e+06</td>\n",
       "      <td>0.000000</td>\n",
       "    </tr>\n",
       "    <tr>\n",
       "      <th>75%</th>\n",
       "      <td>3.328121e+06</td>\n",
       "      <td>0.000000</td>\n",
       "    </tr>\n",
       "    <tr>\n",
       "      <th>max</th>\n",
       "      <td>2.010677e+08</td>\n",
       "      <td>4650.000000</td>\n",
       "    </tr>\n",
       "  </tbody>\n",
       "</table>\n",
       "</div>"
      ],
      "text/plain": [
       "         student_id           rev\n",
       "count  7.457600e+04  74576.000000\n",
       "mean   2.165617e+06      7.687808\n",
       "std    2.786959e+06    110.907645\n",
       "min    1.489000e+03      0.000000\n",
       "25%    9.197188e+05      0.000000\n",
       "50%    1.669752e+06      0.000000\n",
       "75%    3.328121e+06      0.000000\n",
       "max    2.010677e+08   4650.000000"
      ]
     },
     "execution_count": 86,
     "metadata": {},
     "output_type": "execute_result"
    }
   ],
   "source": [
    "all_df.describe()"
   ]
  },
  {
   "cell_type": "markdown",
   "id": "807a8a1a",
   "metadata": {},
   "source": [
    "##### Т.к. большинство пользователей не являются клиентами, то все значения дохода оказались выбросами. Можем сделать вывод, что распределения не являются нормальными и для оценки статистически значимых различий использовать непараметрический критерий  Манна-Утни, который переводит все значения в ранговую шкалу и уже после этого считает какой средний ранг оказался в каждой группе. Этот критерий менее чувствителен к выбросам:"
   ]
  },
  {
   "cell_type": "code",
   "execution_count": 87,
   "id": "a94c7781",
   "metadata": {},
   "outputs": [
    {
     "data": {
      "text/plain": [
       "MannwhitneyuResult(statistic=439940462.0, pvalue=0.9767852353134627)"
      ]
     },
     "execution_count": 87,
     "metadata": {},
     "output_type": "execute_result"
    }
   ],
   "source": [
    "mannwhitneyu(all_df[all_df.grp=='A'].rev,\n",
    "         all_df[all_df.grp=='B'].rev)"
   ]
  },
  {
   "cell_type": "markdown",
   "id": "c046a751",
   "metadata": {},
   "source": [
    "##### Получили pvalue=0.976. Т.к. мы берем уровень альфа, равным 5%, то не можем отклонить гипотезу о том, что группы между собой не различаются."
   ]
  },
  {
   "cell_type": "markdown",
   "id": "384c9815",
   "metadata": {},
   "source": [
    "#### Посчитаем ARPPU для каждой группы клиентов(средний доход с привлеченного клиента). Для нас это один из самых важных показателей.\n",
    "###### ARPPU = доход/ количество клиентов"
   ]
  },
  {
   "cell_type": "code",
   "execution_count": 88,
   "id": "6d922637",
   "metadata": {},
   "outputs": [],
   "source": [
    "metrics['arppu'] = metrics.rev/metrics.paying_users"
   ]
  },
  {
   "cell_type": "code",
   "execution_count": 89,
   "id": "f0fb6df0",
   "metadata": {},
   "outputs": [
    {
     "data": {
      "text/html": [
       "<div>\n",
       "<style scoped>\n",
       "    .dataframe tbody tr th:only-of-type {\n",
       "        vertical-align: middle;\n",
       "    }\n",
       "\n",
       "    .dataframe tbody tr th {\n",
       "        vertical-align: top;\n",
       "    }\n",
       "\n",
       "    .dataframe thead th {\n",
       "        text-align: right;\n",
       "    }\n",
       "</style>\n",
       "<table border=\"1\" class=\"dataframe\">\n",
       "  <thead>\n",
       "    <tr style=\"text-align: right;\">\n",
       "      <th></th>\n",
       "      <th>grp</th>\n",
       "      <th>rev</th>\n",
       "      <th>paying_users</th>\n",
       "      <th>all_users</th>\n",
       "      <th>active_studs</th>\n",
       "      <th>cr</th>\n",
       "      <th>cr_active</th>\n",
       "      <th>arpu</th>\n",
       "      <th>arppu</th>\n",
       "    </tr>\n",
       "  </thead>\n",
       "  <tbody>\n",
       "    <tr>\n",
       "      <th>0</th>\n",
       "      <td>A</td>\n",
       "      <td>92096.0</td>\n",
       "      <td>107</td>\n",
       "      <td>14693</td>\n",
       "      <td>1538</td>\n",
       "      <td>0.73</td>\n",
       "      <td>6.96</td>\n",
       "      <td>6.268019</td>\n",
       "      <td>860.710280</td>\n",
       "    </tr>\n",
       "    <tr>\n",
       "      <th>1</th>\n",
       "      <td>B</td>\n",
       "      <td>481230.0</td>\n",
       "      <td>434</td>\n",
       "      <td>59883</td>\n",
       "      <td>6803</td>\n",
       "      <td>0.72</td>\n",
       "      <td>6.38</td>\n",
       "      <td>8.036171</td>\n",
       "      <td>1108.824885</td>\n",
       "    </tr>\n",
       "  </tbody>\n",
       "</table>\n",
       "</div>"
      ],
      "text/plain": [
       "  grp       rev  paying_users  all_users  active_studs    cr  cr_active   \n",
       "0   A   92096.0           107      14693          1538  0.73       6.96  \\\n",
       "1   B  481230.0           434      59883          6803  0.72       6.38   \n",
       "\n",
       "       arpu        arppu  \n",
       "0  6.268019   860.710280  \n",
       "1  8.036171  1108.824885  "
      ]
     },
     "execution_count": 89,
     "metadata": {},
     "output_type": "execute_result"
    }
   ],
   "source": [
    "metrics"
   ]
  },
  {
   "cell_type": "markdown",
   "id": "981d4ea7",
   "metadata": {},
   "source": [
    "###### Проверим есть ли статистически значимые различия между группами.\n",
    "###### Предположим, что разлий нет - Н0, различия есть - Н1"
   ]
  },
  {
   "cell_type": "code",
   "execution_count": 90,
   "id": "a6d20c44",
   "metadata": {},
   "outputs": [
    {
     "data": {
      "text/html": [
       "<div>\n",
       "<style scoped>\n",
       "    .dataframe tbody tr th:only-of-type {\n",
       "        vertical-align: middle;\n",
       "    }\n",
       "\n",
       "    .dataframe tbody tr th {\n",
       "        vertical-align: top;\n",
       "    }\n",
       "\n",
       "    .dataframe thead th {\n",
       "        text-align: right;\n",
       "    }\n",
       "</style>\n",
       "<table border=\"1\" class=\"dataframe\">\n",
       "  <thead>\n",
       "    <tr style=\"text-align: right;\">\n",
       "      <th></th>\n",
       "      <th>student_id</th>\n",
       "      <th>grp</th>\n",
       "      <th>rev</th>\n",
       "    </tr>\n",
       "  </thead>\n",
       "  <tbody>\n",
       "    <tr>\n",
       "      <th>1</th>\n",
       "      <td>1627</td>\n",
       "      <td>A</td>\n",
       "      <td>990.0</td>\n",
       "    </tr>\n",
       "    <tr>\n",
       "      <th>39</th>\n",
       "      <td>3185</td>\n",
       "      <td>B</td>\n",
       "      <td>690.0</td>\n",
       "    </tr>\n",
       "    <tr>\n",
       "      <th>121</th>\n",
       "      <td>25973</td>\n",
       "      <td>B</td>\n",
       "      <td>690.0</td>\n",
       "    </tr>\n",
       "    <tr>\n",
       "      <th>125</th>\n",
       "      <td>26280</td>\n",
       "      <td>B</td>\n",
       "      <td>690.0</td>\n",
       "    </tr>\n",
       "    <tr>\n",
       "      <th>220</th>\n",
       "      <td>100300</td>\n",
       "      <td>B</td>\n",
       "      <td>990.0</td>\n",
       "    </tr>\n",
       "    <tr>\n",
       "      <th>...</th>\n",
       "      <td>...</td>\n",
       "      <td>...</td>\n",
       "      <td>...</td>\n",
       "    </tr>\n",
       "    <tr>\n",
       "      <th>74365</th>\n",
       "      <td>5645737</td>\n",
       "      <td>B</td>\n",
       "      <td>1900.0</td>\n",
       "    </tr>\n",
       "    <tr>\n",
       "      <th>74381</th>\n",
       "      <td>5651566</td>\n",
       "      <td>B</td>\n",
       "      <td>1900.0</td>\n",
       "    </tr>\n",
       "    <tr>\n",
       "      <th>74402</th>\n",
       "      <td>5662322</td>\n",
       "      <td>B</td>\n",
       "      <td>1900.0</td>\n",
       "    </tr>\n",
       "    <tr>\n",
       "      <th>74452</th>\n",
       "      <td>5681918</td>\n",
       "      <td>B</td>\n",
       "      <td>1900.0</td>\n",
       "    </tr>\n",
       "    <tr>\n",
       "      <th>74539</th>\n",
       "      <td>5740903</td>\n",
       "      <td>B</td>\n",
       "      <td>1900.0</td>\n",
       "    </tr>\n",
       "  </tbody>\n",
       "</table>\n",
       "<p>541 rows × 3 columns</p>\n",
       "</div>"
      ],
      "text/plain": [
       "       student_id grp     rev\n",
       "1            1627   A   990.0\n",
       "39           3185   B   690.0\n",
       "121         25973   B   690.0\n",
       "125         26280   B   690.0\n",
       "220        100300   B   990.0\n",
       "...           ...  ..     ...\n",
       "74365     5645737   B  1900.0\n",
       "74381     5651566   B  1900.0\n",
       "74402     5662322   B  1900.0\n",
       "74452     5681918   B  1900.0\n",
       "74539     5740903   B  1900.0\n",
       "\n",
       "[541 rows x 3 columns]"
      ]
     },
     "execution_count": 90,
     "metadata": {},
     "output_type": "execute_result"
    }
   ],
   "source": [
    "paying_df = all_df.query('rev>0')\n",
    "paying_df"
   ]
  },
  {
   "cell_type": "code",
   "execution_count": 91,
   "id": "d557a514",
   "metadata": {},
   "outputs": [
    {
     "data": {
      "text/plain": [
       "<AxesSubplot:xlabel='grp', ylabel='rev'>"
      ]
     },
     "execution_count": 91,
     "metadata": {},
     "output_type": "execute_result"
    },
    {
     "data": {
      "image/png": "[encoded data removed]",
      "text/plain": [
       "<Figure size 432x288 with 1 Axes>"
      ]
     },
     "metadata": {},
     "output_type": "display_data"
    }
   ],
   "source": [
    "sns.boxplot(x='grp',y='rev', data = paying_df)"
   ]
  },
  {
   "cell_type": "code",
   "execution_count": 92,
   "id": "fe1e6074",
   "metadata": {},
   "outputs": [
    {
     "data": {
      "text/html": [
       "<div>\n",
       "<style scoped>\n",
       "    .dataframe tbody tr th:only-of-type {\n",
       "        vertical-align: middle;\n",
       "    }\n",
       "\n",
       "    .dataframe tbody tr th {\n",
       "        vertical-align: top;\n",
       "    }\n",
       "\n",
       "    .dataframe thead th {\n",
       "        text-align: right;\n",
       "    }\n",
       "</style>\n",
       "<table border=\"1\" class=\"dataframe\">\n",
       "  <thead>\n",
       "    <tr style=\"text-align: right;\">\n",
       "      <th></th>\n",
       "      <th>student_id</th>\n",
       "      <th>rev</th>\n",
       "    </tr>\n",
       "  </thead>\n",
       "  <tbody>\n",
       "    <tr>\n",
       "      <th>count</th>\n",
       "      <td>5.410000e+02</td>\n",
       "      <td>541.000000</td>\n",
       "    </tr>\n",
       "    <tr>\n",
       "      <th>mean</th>\n",
       "      <td>2.514772e+06</td>\n",
       "      <td>1059.752317</td>\n",
       "    </tr>\n",
       "    <tr>\n",
       "      <th>std</th>\n",
       "      <td>1.726839e+06</td>\n",
       "      <td>762.712359</td>\n",
       "    </tr>\n",
       "    <tr>\n",
       "      <th>min</th>\n",
       "      <td>1.627000e+03</td>\n",
       "      <td>199.000000</td>\n",
       "    </tr>\n",
       "    <tr>\n",
       "      <th>25%</th>\n",
       "      <td>9.871290e+05</td>\n",
       "      <td>290.000000</td>\n",
       "    </tr>\n",
       "    <tr>\n",
       "      <th>50%</th>\n",
       "      <td>2.526021e+06</td>\n",
       "      <td>840.000000</td>\n",
       "    </tr>\n",
       "    <tr>\n",
       "      <th>75%</th>\n",
       "      <td>3.993249e+06</td>\n",
       "      <td>1900.000000</td>\n",
       "    </tr>\n",
       "    <tr>\n",
       "      <th>max</th>\n",
       "      <td>5.740903e+06</td>\n",
       "      <td>4650.000000</td>\n",
       "    </tr>\n",
       "  </tbody>\n",
       "</table>\n",
       "</div>"
      ],
      "text/plain": [
       "         student_id          rev\n",
       "count  5.410000e+02   541.000000\n",
       "mean   2.514772e+06  1059.752317\n",
       "std    1.726839e+06   762.712359\n",
       "min    1.627000e+03   199.000000\n",
       "25%    9.871290e+05   290.000000\n",
       "50%    2.526021e+06   840.000000\n",
       "75%    3.993249e+06  1900.000000\n",
       "max    5.740903e+06  4650.000000"
      ]
     },
     "execution_count": 92,
     "metadata": {},
     "output_type": "execute_result"
    }
   ],
   "source": [
    "paying_df.describe()"
   ]
  },
  {
   "cell_type": "markdown",
   "id": "62dcded1",
   "metadata": {},
   "source": [
    "#### Видим, что в группах есть выбросы (экстремально большие значения).\n",
    "#### Проверим распределения на нормальность, предварительно убрав выбросы по 0.99 процентилю"
   ]
  },
  {
   "cell_type": "code",
   "execution_count": 93,
   "id": "3e1a3f11",
   "metadata": {},
   "outputs": [],
   "source": [
    "paying_df = paying_df.loc[paying_df['rev'] < paying_df.rev.quantile(q=0.99)]\n",
    "# отсеила выбросы"
   ]
  },
  {
   "cell_type": "code",
   "execution_count": 94,
   "id": "62d9f765",
   "metadata": {
    "scrolled": true
   },
   "outputs": [
    {
     "data": {
      "text/plain": [
       "<AxesSubplot:xlabel='grp', ylabel='rev'>"
      ]
     },
     "execution_count": 94,
     "metadata": {},
     "output_type": "execute_result"
    },
    {
     "data": {
      "image/png": "[encoded data removed]",
      "text/plain": [
       "<Figure size 432x288 with 1 Axes>"
      ]
     },
     "metadata": {},
     "output_type": "display_data"
    }
   ],
   "source": [
    "sns.boxplot(x='grp',y='rev', data = paying_df)\n",
    "#видим, что отсеив 0.99 процентиль все выбросы убрать не удалось"
   ]
  },
  {
   "cell_type": "markdown",
   "id": "8a3d86a9",
   "metadata": {},
   "source": [
    "##### С помощью теста Шапиро-Уилка проверим распределения на нормальность:"
   ]
  },
  {
   "cell_type": "code",
   "execution_count": 95,
   "id": "4f473a3c",
   "metadata": {},
   "outputs": [
    {
     "data": {
      "text/plain": [
       "ShapiroResult(statistic=0.741539716720581, pvalue=3.05831358501929e-12)"
      ]
     },
     "execution_count": 95,
     "metadata": {},
     "output_type": "execute_result"
    }
   ],
   "source": [
    "sample_test_A= paying_df.query('grp==\"A\"')['rev']\n",
    "\n",
    "stats.shapiro(sample_test_A)"
   ]
  },
  {
   "cell_type": "code",
   "execution_count": 96,
   "id": "452e2df8",
   "metadata": {},
   "outputs": [
    {
     "data": {
      "text/plain": [
       "ShapiroResult(statistic=0.8684478998184204, pvalue=1.2702796566041817e-18)"
      ]
     },
     "execution_count": 96,
     "metadata": {},
     "output_type": "execute_result"
    }
   ],
   "source": [
    "sample_test_B= paying_df.query('grp==\"B\"')['rev']\n",
    "\n",
    "stats.shapiro(sample_test_B)"
   ]
  },
  {
   "cell_type": "markdown",
   "id": "8aae8650",
   "metadata": {},
   "source": [
    "#### Т.к. обе выборки представляют собой не нормальные распределения (p_value < 0.05 в обоих случаях) Сравним их с помощью непараметрического аналога - U-критерия Манна-Утни, который переводит все данные в рангову шкалу и после этого считает какой средний ранг оказался в первой группе и во второй. Этот критерий менее чувствителен к выбросам:"
   ]
  },
  {
   "cell_type": "code",
   "execution_count": 97,
   "id": "a1d0992b",
   "metadata": {},
   "outputs": [
    {
     "data": {
      "text/plain": [
       "MannwhitneyuResult(statistic=16566.0, pvalue=3.114365285054551e-05)"
      ]
     },
     "execution_count": 97,
     "metadata": {},
     "output_type": "execute_result"
    }
   ],
   "source": [
    "mannwhitneyu(paying_df[paying_df.grp=='A'].rev,\n",
    "         paying_df[paying_df.grp=='B'].rev)"
   ]
  },
  {
   "cell_type": "markdown",
   "id": "95ed9c05",
   "metadata": {},
   "source": [
    "###### pvalue < 0.05  - это значит, что платящие пользователи в тестовой и контрольной группах статистически значимо различаются между собой и у нас есть основания отклонить Н0 и принять гипотезу Н1. Но предварительно перепроверим это с помощью bootstrap."
   ]
  },
  {
   "cell_type": "code",
   "execution_count": 98,
   "id": "1ae17ce5",
   "metadata": {},
   "outputs": [],
   "source": [
    "# объявляем функцию bootstrap\n",
    "\n",
    "def get_bootstrap_median(\n",
    "    data_column_1, # числовые значения для первой выборки\n",
    "    data_column_2, # числовые значения для второй выборки\n",
    "    boot_it = 2000, # количество бутстрап_подвыборок\n",
    "    statistic = np.median, # интересующая нас статистика\n",
    "    bootstrap_conf_level = 0.95 # уровень значимости\n",
    "):\n",
    "    boot_len = max([len(data_column_1), len(data_column_2)])\n",
    "    boot_data = []\n",
    "    for i in tqdm(range(boot_it)): # извлекаем подвыборки\n",
    "        samples_1 = data_column_1.sample(boot_len, replace = True).values # True - параметр возвращения\n",
    "        \n",
    "        samples_2 = data_column_2.sample(boot_len, replace = True).values # True - параметр возвращения\n",
    "        \n",
    "        boot_data.append(statistic(samples_1 - samples_2)) # median()- применяем статистику\n",
    "        \n",
    "    pd_boot_data = pd.DataFrame(boot_data)\n",
    "    \n",
    "    left_quant = (1 - bootstrap_conf_level)/2\n",
    "    right_quant = 1 - (1 - bootstrap_conf_level)/2\n",
    "    ci = pd_boot_data.quantile([left_quant,right_quant])\n",
    "    \n",
    "    p_1 = norm.cdf(\n",
    "        x = 0,\n",
    "        loc = np.median(boot_data),\n",
    "        scale = np.std(boot_data) )\n",
    "    \n",
    "    p_2 = norm.cdf(\n",
    "        x = 0,\n",
    "        loc = -np.median(boot_data),\n",
    "        scale = np.std(boot_data) )\n",
    "    p_value = min(p_1, p_2) * 2\n",
    "    \n",
    "    # Визуализация\n",
    "    plt.hist(pd_boot_data[0], bins = 50)\n",
    "    \n",
    "    plt.style.use('ggplot')\n",
    "    plt.vlines(ci, ymin = 0, ymax = 50, linestyle = '--')\n",
    "    plt.xlabel('boot_data')\n",
    "    plt.ylabel('frequency')\n",
    "    plt.title('Histogram of boot_data')\n",
    "    plt.show()\n",
    "    \n",
    "    return {'boot_data' : boot_data,\n",
    "            'ci' : ci,\n",
    "            'p_value' : p_value}"
   ]
  },
  {
   "cell_type": "code",
   "execution_count": 99,
   "id": "52551be3",
   "metadata": {},
   "outputs": [
    {
     "data": {
      "application/vnd.jupyter.widget-view+json": {
       "model_id": "8f6de5986c8d45ae8e889e46f26a148d",
       "version_major": 2,
       "version_minor": 0
      },
      "text/plain": [
       "  0%|          | 0/2000 [00:00<?, ?it/s]"
      ]
     },
     "metadata": {},
     "output_type": "display_data"
    },
    {
     "data": {
      "image/png": "[encoded data removed]",
      "text/plain": [
       "<Figure size 432x288 with 1 Axes>"
      ]
     },
     "metadata": {},
     "output_type": "display_data"
    }
   ],
   "source": [
    "booted_data = get_bootstrap_median(paying_df.query('grp==\"A\"').rev, paying_df.query('grp==\"B\"').rev)"
   ]
  },
  {
   "cell_type": "code",
   "execution_count": 100,
   "id": "8dc4d7ef",
   "metadata": {},
   "outputs": [
    {
     "data": {
      "text/plain": [
       "1.9185451259245357e-05"
      ]
     },
     "execution_count": 100,
     "metadata": {},
     "output_type": "execute_result"
    }
   ],
   "source": [
    "booted_data['p_value']"
   ]
  },
  {
   "cell_type": "code",
   "execution_count": 101,
   "id": "0098d3aa",
   "metadata": {},
   "outputs": [
    {
     "data": {
      "text/html": [
       "<div>\n",
       "<style scoped>\n",
       "    .dataframe tbody tr th:only-of-type {\n",
       "        vertical-align: middle;\n",
       "    }\n",
       "\n",
       "    .dataframe tbody tr th {\n",
       "        vertical-align: top;\n",
       "    }\n",
       "\n",
       "    .dataframe thead th {\n",
       "        text-align: right;\n",
       "    }\n",
       "</style>\n",
       "<table border=\"1\" class=\"dataframe\">\n",
       "  <thead>\n",
       "    <tr style=\"text-align: right;\">\n",
       "      <th></th>\n",
       "      <th>0</th>\n",
       "    </tr>\n",
       "  </thead>\n",
       "  <tbody>\n",
       "    <tr>\n",
       "      <th>0.025</th>\n",
       "      <td>-400.0</td>\n",
       "    </tr>\n",
       "    <tr>\n",
       "      <th>0.975</th>\n",
       "      <td>-150.0</td>\n",
       "    </tr>\n",
       "  </tbody>\n",
       "</table>\n",
       "</div>"
      ],
      "text/plain": [
       "           0\n",
       "0.025 -400.0\n",
       "0.975 -150.0"
      ]
     },
     "execution_count": 101,
     "metadata": {},
     "output_type": "execute_result"
    }
   ],
   "source": [
    "booted_data['ci']"
   ]
  },
  {
   "cell_type": "markdown",
   "id": "7fe62147",
   "metadata": {},
   "source": [
    "#### По проведенным выше тестам можно сделать вывод, что механика оплаты не влияет на количество активных пользователей и в обеих группах конверсии  в покупку (и абсолютная и относительная) статистически значимо между собой не отличаются, но при этом средний доход с привлеченного клиента в тестовой группе ВЫШЕ, чем в контрольной и эти различия статистически значимы. Однако, т.к. тестировали новую механику оплаты, то вероятно должно было произойти увеличение конверсии, а уже как следствие рост ARPPU.  Потому что механика оплаты по идеи не влияет на увеличение чека. \n",
    "#### Необходимо больше данных для проверки корректности сплитования. Если же сплитование, как и предполагалось произведено верно, то возможно нужно больше времени на эксперимент, чтобы получить статистически значимые различия в группах,  а так же можно провести эксперимент на бОльших выбоках.\n",
    "#### Таким образом считаю, что на данном этапе не целесообразно менять механику оплаты у всех пользователей."
   ]
  }
 ],
 "metadata": {
  "kernelspec": {
   "display_name": "Python 3 (ipykernel)",
   "language": "python",
   "name": "python3"
  },
  "language_info": {
   "codemirror_mode": {
    "name": "ipython",
    "version": 3
   },
   "file_extension": ".py",
   "mimetype": "text/x-python",
   "name": "python",
   "nbconvert_exporter": "python",
   "pygments_lexer": "ipython3",
   "version": "3.9.7"
  }
 },
 "nbformat": 4,
 "nbformat_minor": 5
}
