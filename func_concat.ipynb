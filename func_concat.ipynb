{
 "cells": [
  {
   "cell_type": "markdown",
   "id": "a3975262",
   "metadata": {},
   "source": [
    "## Задание 3. Python\n",
    "### 3.1 Задача\n",
    "\n",
    "######  Реализуйте функцию, которая будет автоматически подгружать информацию из дополнительного файла groups_add.csv (заголовки могут отличаться) и на основании дополнительных параметров пересчитывать метрики."
   ]
  },
  {
   "cell_type": "code",
   "execution_count": 1,
   "id": "2cdb8b28",
   "metadata": {},
   "outputs": [],
   "source": [
    "import pandas as pd"
   ]
  },
  {
   "cell_type": "code",
   "execution_count": 2,
   "id": "5e64d8c0",
   "metadata": {},
   "outputs": [],
   "source": [
    "def func_concat(path_1, path_2, path_3, path_4):\n",
    "    \n",
    "    df_1 = pd.read_csv(path_1, sep=';', header = 0, names = ['student_id','groups']) # загружаем файл с информацией о \n",
    "    # принадлежности пользователя к контрольной или эксперементальной группе\n",
    "    \n",
    "    try:\n",
    "        df_2 = pd.read_csv(path_2,sep=',', header = 0, names = ['student_id','groups'])\n",
    "    except:\n",
    "        df_2 = pd.read_csv(path_2,sep=';', header = 0, names = ['student_id','groups']) # загружаем дополнительный файл с \n",
    "     # информацией о принадлежности пользователя к группе. Делаем подстраховку на считывание разделителя.  \n",
    "        \n",
    "    all_users_groups = pd.concat([df_1, df_2]).drop_duplicates() # соединяем файлы\n",
    "    all_users_groups.to_csv('all_users_groups.to_csv', sep = ';')\n",
    "    \n",
    "    active_students = pd.read_csv(path_3, sep=';', header = 0, names = ['student_id']) # загружаем информацию об активных студентах\n",
    "    active_students = active_students.merge(all_users_groups, on='student_id', how='left').drop_duplicates() #к данным об\n",
    "    # активности студентов добавили данные о группах\n",
    "   \n",
    "    count_active = active_students.groupby('groups', as_index = False)\\\n",
    "    .agg({'student_id':'count'})\\\n",
    "    .rename(columns=({'student_id': 'active_users'}))  # посчитали количество активных пользователей\n",
    "    \n",
    "    checks = pd.read_csv(path_4,sep=';', header = 0, names = ['student_id','revenue']) # загружаем данные о покупках\n",
    "    all_users_groups = all_users_groups.merge(checks, on = 'student_id', how='left').fillna(0) # соединяем данные о покупках\n",
    "    # с данными о группах пользователей\n",
    "    \n",
    "    metrics = all_users_groups.groupby('groups', as_index=False)\\\n",
    "    .agg({'student_id':'nunique'})\\\n",
    "    .rename(columns={'student_id':'all_users'}) # посчитали, сколько пользователей в каждой группе\n",
    "    \n",
    "    revenue = all_users_groups.query('revenue>0')\\\n",
    "    .groupby('groups', as_index = False)\\\n",
    "    .agg({'revenue':'sum', 'student_id':'nunique'})\\\n",
    "    .rename(columns={'student_id':'paying_users'})\\\n",
    "    .round() # посчитали доход и количество платящих пользователей в каждой группе\n",
    "    \n",
    "    metrics = metrics.merge(count_active, on = 'groups')\\\n",
    "        .merge(revenue, on = 'groups') # собрали данные в одну таблицу\n",
    "    \n",
    "    # считаем метрики:\n",
    "    \n",
    "    metrics['arpu'] = round((metrics.revenue/metrics.all_users),2) # посчитали arpu\n",
    "    metrics['arppu'] = round((metrics.revenue/metrics.paying_users),2) # посчитали arppu\n",
    "    metrics['cr'] = round((metrics.paying_users/metrics.all_users *100),2) # посчитала конверсию (в %) в покупку из всех пользователей\n",
    "    metrics['cr_active'] = round((metrics.paying_users/metrics.active_users *100),2) # посчитала конверсию (в %) из активных пользователей\n",
    "    \n",
    "    return metrics\n",
    "    \n",
    "    "
   ]
  },
  {
   "cell_type": "code",
   "execution_count": 3,
   "id": "d3e81f6b",
   "metadata": {},
   "outputs": [],
   "source": [
    "df = func_concat('Проект_2_groups.csv', 'Проект_2_group_add.csv', 'Проект_2_active_studs.csv', 'Проект_2_checks.csv')"
   ]
  },
  {
   "cell_type": "code",
   "execution_count": 4,
   "id": "6ffbe7e9",
   "metadata": {},
   "outputs": [
    {
     "data": {
      "text/html": [
       "<div>\n",
       "<style scoped>\n",
       "    .dataframe tbody tr th:only-of-type {\n",
       "        vertical-align: middle;\n",
       "    }\n",
       "\n",
       "    .dataframe tbody tr th {\n",
       "        vertical-align: top;\n",
       "    }\n",
       "\n",
       "    .dataframe thead th {\n",
       "        text-align: right;\n",
       "    }\n",
       "</style>\n",
       "<table border=\"1\" class=\"dataframe\">\n",
       "  <thead>\n",
       "    <tr style=\"text-align: right;\">\n",
       "      <th></th>\n",
       "      <th>groups</th>\n",
       "      <th>all_users</th>\n",
       "      <th>active_users</th>\n",
       "      <th>revenue</th>\n",
       "      <th>paying_users</th>\n",
       "      <th>arpu</th>\n",
       "      <th>arppu</th>\n",
       "      <th>cr</th>\n",
       "      <th>cr_active</th>\n",
       "    </tr>\n",
       "  </thead>\n",
       "  <tbody>\n",
       "    <tr>\n",
       "      <th>0</th>\n",
       "      <td>A</td>\n",
       "      <td>14693</td>\n",
       "      <td>1538</td>\n",
       "      <td>92096.0</td>\n",
       "      <td>107</td>\n",
       "      <td>6.27</td>\n",
       "      <td>860.71</td>\n",
       "      <td>0.73</td>\n",
       "      <td>6.96</td>\n",
       "    </tr>\n",
       "    <tr>\n",
       "      <th>1</th>\n",
       "      <td>B</td>\n",
       "      <td>59883</td>\n",
       "      <td>6803</td>\n",
       "      <td>481230.0</td>\n",
       "      <td>434</td>\n",
       "      <td>8.04</td>\n",
       "      <td>1108.82</td>\n",
       "      <td>0.72</td>\n",
       "      <td>6.38</td>\n",
       "    </tr>\n",
       "  </tbody>\n",
       "</table>\n",
       "</div>"
      ],
      "text/plain": [
       "  groups  all_users  active_users   revenue  paying_users  arpu    arppu   \n",
       "0      A      14693          1538   92096.0           107  6.27   860.71  \\\n",
       "1      B      59883          6803  481230.0           434  8.04  1108.82   \n",
       "\n",
       "     cr  cr_active  \n",
       "0  0.73       6.96  \n",
       "1  0.72       6.38  "
      ]
     },
     "execution_count": 4,
     "metadata": {},
     "output_type": "execute_result"
    }
   ],
   "source": [
    "df"
   ]
  },
  {
   "cell_type": "markdown",
   "id": "741b7277",
   "metadata": {},
   "source": [
    "#### 3.2 Реализуйте функцию, которая будет строить графики по получаемым метрикам."
   ]
  },
  {
   "cell_type": "code",
   "execution_count": 5,
   "id": "c3ae755c",
   "metadata": {},
   "outputs": [],
   "source": [
    "import seaborn as sns\n",
    "import matplotlib.pyplot as plt\n",
    "\n",
    "%matplotlib inline"
   ]
  },
  {
   "cell_type": "code",
   "execution_count": 64,
   "id": "4ea4e26b",
   "metadata": {},
   "outputs": [],
   "source": [
    "def grafics(path_1, path_2, path_3, path_4):\n",
    "    \n",
    "    df_1 = pd.read_csv(path_1, sep=';', header = 0, names = ['student_id','groups']) # загружаем файл с информацией о \n",
    "    # принадлежности пользователя к контрольной или эксперементальной группе\n",
    "    \n",
    "    try:\n",
    "        df_2 = pd.read_csv(path_2,sep=',', header = 0, names = ['student_id','groups'])\n",
    "    except:\n",
    "        df_2 = pd.read_csv(path_2,sep=';', header = 0, names = ['student_id','groups']) # загружаем дополнительный файл с \n",
    "     # информацией о принадлежности пользователя к группе. Делаем подстраховку на считывание разделителя.  \n",
    "        \n",
    "    all_users_groups = pd.concat([df_1, df_2]).drop_duplicates() # соединяем файлы\n",
    "    all_users_groups.to_csv('all_users_groups.csv', sep = ';')\n",
    "    \n",
    "    active_students = pd.read_csv(path_3, sep=';', header = 0, names = ['student_id']) # загружаем информацию об активных студентах\n",
    "    active_students = active_students.merge(all_users_groups, on='student_id', how='left').drop_duplicates() #к данным об\n",
    "    # активности студентов добавили данные о группах\n",
    "   \n",
    "    count_active = active_students.groupby('groups', as_index = False)\\\n",
    "    .agg({'student_id':'count'})\\\n",
    "    .rename(columns=({'student_id': 'active_users'}))  # посчитали количество активных пользователей\n",
    "    \n",
    "    checks = pd.read_csv(path_4,sep=';', header = 0, names = ['student_id','revenue']) # загружаем данные о покупках\n",
    "    all_users_groups = all_users_groups.merge(checks, on = 'student_id', how='left').fillna(0) # соединяем данные о покупках\n",
    "    # с данными о группах пользователей\n",
    "    \n",
    "    metrics = all_users_groups.groupby('groups', as_index=False)\\\n",
    "    .agg({'student_id':'nunique'})\\\n",
    "    .rename(columns={'student_id':'all_users'}) # посчитали, сколько пользователей в каждой группе\n",
    "    \n",
    "    revenue = all_users_groups.query('revenue>0')\\\n",
    "    .groupby('groups', as_index = False)\\\n",
    "    .agg({'revenue':'sum', 'student_id':'nunique'})\\\n",
    "    .rename(columns={'student_id':'paying_users'})\\\n",
    "    .round() # посчитали доход и количество платящих пользователей в каждой группе\n",
    "    \n",
    "    metrics = metrics.merge(count_active, on = 'groups')\\\n",
    "        .merge(revenue, on = 'groups') # собрали данные в одну таблицу\n",
    "    \n",
    "    # считаем метрики:\n",
    "    \n",
    "    metrics['arpu'] = round((metrics.revenue/metrics.all_users),2) # посчитали arpu\n",
    "    metrics['arppu'] = round((metrics.revenue/metrics.paying_users),2) # посчитали arppu\n",
    "    metrics['cr'] = round((metrics.paying_users/metrics.all_users *100),2) # посчитала конверсию (в %) в покупку из всех пользователей\n",
    "    metrics['cr_active'] = round((metrics.paying_users/metrics.active_users *100),2) # посчитала конверсию (в %) из активных пользователей\n",
    "    \n",
    "    sns.set_theme()\n",
    "    sns.set_context(\"talk\")\n",
    "    sns.set_style(\"whitegrid\")\n",
    "    #sns.despine()\n",
    "    sns.set (rc={\"figure.figsize\":( 18 , 12 )})# размеры графика\n",
    "    sns.set (font_scale= 3 ) # размер шрифтов\n",
    "    sns.set_context(\"talk\") #размер фигур\n",
    "\n",
    "\n",
    "    #define plotting region (2 row, 2 columns)\n",
    "    fig, axes = plt.subplots(2, 2)\n",
    "    fig.tight_layout(h_pad= 6) # увеличиваем отступ между подграфиками\n",
    "    fig.suptitle('METRICS') # заголовок\n",
    "    plt.subplots_adjust(top= 0.85) # увеличиваем отступ между заголовком и графиками\n",
    "   \n",
    "\n",
    "    sns.barplot(data=df, x='groups', y='cr', ax=axes[0,0]).set(title= 'CR')\n",
    "    sns.barplot(data=df, x='groups', y='cr_active', ax=axes[0,1]).set(title= 'CR_ACTIVE')\n",
    "    sns.barplot(data=df, x='groups', y='arpu', ax=axes[1,0]).set(title= 'ARPU')\n",
    "    sns.barplot(data=df, x='groups', y='arppu', ax=axes[1,1]).set(title= 'ARPPU')\n",
    "    \n",
    "    plt.show()\n",
    "    \n",
    "\n",
    "    return fig, axes\n",
    "    "
   ]
  },
  {
   "cell_type": "code",
   "execution_count": 63,
   "id": "70b4b45e",
   "metadata": {},
   "outputs": [
    {
     "data": {
      "image/png": "[encoded data removed]",
      "text/plain": [
       "<Figure size 1296x864 with 4 Axes>"
      ]
     },
     "metadata": {},
     "output_type": "display_data"
    },
    {
     "data": {
      "text/plain": [
       "(<Figure size 1296x864 with 4 Axes>,\n",
       " array([[<AxesSubplot:title={'center':'CR'}, xlabel='groups', ylabel='cr'>,\n",
       "         <AxesSubplot:title={'center':'CR_ACTIVE'}, xlabel='groups', ylabel='cr_active'>],\n",
       "        [<AxesSubplot:title={'center':'ARPU'}, xlabel='groups', ylabel='arpu'>,\n",
       "         <AxesSubplot:title={'center':'ARPPU'}, xlabel='groups', ylabel='arppu'>]],\n",
       "       dtype=object))"
      ]
     },
     "execution_count": 63,
     "metadata": {},
     "output_type": "execute_result"
    }
   ],
   "source": [
    "grafics('Проект_2_groups.csv', 'Проект_2_group_add.csv', 'Проект_2_active_studs.csv', 'Проект_2_checks.csv')"
   ]
  }
 ],
 "metadata": {
  "kernelspec": {
   "display_name": "Python 3 (ipykernel)",
   "language": "python",
   "name": "python3"
  },
  "language_info": {
   "codemirror_mode": {
    "name": "ipython",
    "version": 3
   },
   "file_extension": ".py",
   "mimetype": "text/x-python",
   "name": "python",
   "nbconvert_exporter": "python",
   "pygments_lexer": "ipython3",
   "version": "3.9.7"
  }
 },
 "nbformat": 4,
 "nbformat_minor": 5
}
